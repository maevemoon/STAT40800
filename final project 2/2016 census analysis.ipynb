{
 "cells": [
  {
   "cell_type": "code",
   "execution_count": 26,
   "metadata": {},
   "outputs": [],
   "source": [
    "import pandas as pd\n",
    "\n",
    "electoral_census = pd.read_csv('census_by_electoral_area.csv',encoding='unicode_escape',thousands=',') # replacing number strings with commas into numbers\n",
    "data = electoral_census.replace('\"','', regex=True) # replacing number strings with quotation marks into numbers"
   ]
  },
  {
   "cell_type": "code",
   "execution_count": 57,
   "metadata": {},
   "outputs": [
    {
     "name": "stdout",
     "output_type": "stream",
     "text": [
      "North Inner City has the most single people of 49048 out of 72982 total population.\n",
      "Ballinamore has the least single people of 4801 out of 9862 total population.\n",
      "The electoral area with the highest single proportion is North Inner City, with a proportion of 0.6721.\n",
      "The electoral area with the lowest single proportion is Templeogue - Terenure, with a proportion of 0.4833.\n",
      "Ballincollig - Carrigaline has the most married or widowed people of 31638 out of 54887 total adult population.\n",
      "Ballinamore has the least married or widowed people of 4619 out of 7393 total adult population.\n",
      "Adare - Rathkeale is the electoral area with the highest married/widowed proportion of 0.6404.\n",
      "North Inner City is the electoral area with the lowest married/widowed proportion of 0.3161.\n",
      "Beaumont-Donaghmede has the most separated or divorced people of 3682 out of 58255 total adult population.\n",
      "Ballinamore has the least separated or divorced people of 442 out of 7393 total adult population.\n",
      "Longford is the electoral area with the highest separated/divorced proportion of 0.0879.\n",
      "Cork City South West is the electoral area with the lowest separated/divorced proportion of 0.0371.\n"
     ]
    }
   ],
   "source": [
    "# marital status\n",
    "# single\n",
    "max_single = data['T1_2SGLT'].idxmax()\n",
    "min_single = data['T1_2SGLT'].idxmin()\n",
    "data['single proportion'] = data['T1_2SGLT'] / data['T1_1AGETT']\n",
    "max_single_proportion = data['single proportion'].idxmax()\n",
    "min_single_proportion = data['single proportion'].idxmin()\n",
    "\n",
    "print('{} has the most single people of {} out of {} total population.'.format(data.loc[max_single,'GEOGDESC'],data.loc[max_single,'T1_2SGLT'],data.loc[max_single,'T1_1AGETT']))\n",
    "print('{} has the least single people of {} out of {} total population.'.format(data.loc[min_single, 'GEOGDESC'],data.loc[min_single,'T1_2SGLT'],data.loc[min_single,'T1_1AGETT']))\n",
    "print('The electoral area with the highest single proportion is {}, with a proportion of {:0.4f}.'.format(data.loc[max_single_proportion,'GEOGDESC'],data.loc[max_single_proportion,'single proportion']))\n",
    "print('The electoral area with the lowest single proportion is {}, with a proportion of {:0.4f}.'.format(data.loc[min_single_proportion,'GEOGDESC'],data.loc[min_single_proportion,'single proportion']))\n",
    "\n",
    "# adults\n",
    "adults = ['T1_1AGE18T', 'T1_1AGE19T', 'T1_1AGE20_24T', 'T1_1AGE25_29T', 'T1_1AGE30_34T', 'T1_1AGE35_39T', 'T1_1AGE40_44T', 'T1_1AGE45_49T', 'T1_1AGE50_54T', 'T1_1AGE55_59T', 'T1_1AGE60_64T', 'T1_1AGE65_69T', 'T1_1AGE70_74T', 'T1_1AGE75_79T', 'T1_1AGE80_84T', 'T1_1AGEGE_85T']\n",
    "data['adult total'] = data[adults].sum(axis=1)\n",
    "\n",
    "# married or widowed\n",
    "data['marwid total'] = data[['T1_2MART', 'T1_2WIDT']].sum(axis=1)\n",
    "max_marwid = data['marwid total'].idxmax()\n",
    "min_marwid = data['marwid total'].idxmin()\n",
    "data['marwid proportion'] = data['marwid total'] / data['adult total']\n",
    "max_marwid_proportion = data['marwid proportion'].idxmax()\n",
    "min_marwid_proportion = data['marwid proportion'].idxmin()\n",
    "\n",
    "print('{} has the most married or widowed people of {} out of {} total adult population.'.format(data.loc[max_marwid,'GEOGDESC'],data.loc[max_marwid,'marwid total'],data.loc[max_marwid,'adult total']))\n",
    "print('{} has the least married or widowed people of {} out of {} total adult population.'.format(data.loc[min_marwid,'GEOGDESC'],data.loc[min_marwid,'marwid total'],data.loc[min_marwid,'adult total']))\n",
    "print('{} is the electoral area with the highest married/widowed proportion of {:0.4f}.'.format(data.loc[max_marwid_proportion,'GEOGDESC'],data.loc[max_marwid_proportion,'marwid proportion']))\n",
    "print('{} is the electoral area with the lowest married/widowed proportion of {:0.4f}.'.format(data.loc[min_marwid_proportion,'GEOGDESC'],data.loc[min_marwid_proportion,'marwid proportion']))\n",
    "\n",
    "# separated or divorced\n",
    "data['sepdiv total'] = data[['T1_2SEPT', 'T1_2DIVT']].sum(axis=1)\n",
    "max_sepdiv = data['sepdiv total'].idxmax()\n",
    "min_sepdiv = data['sepdiv total'].idxmin()\n",
    "data['sepdiv proportion'] = data['sepdiv total'] / data['adult total']\n",
    "max_sepdiv_proportion = data['sepdiv proportion'].idxmax()\n",
    "min_sepdiv_proportion = data['sepdiv proportion'].idxmin()\n",
    "\n",
    "print('{} has the most separated or divorced people of {} out of {} total adult population.'.format(data.loc[max_sepdiv,'GEOGDESC'],data.loc[max_sepdiv,'sepdiv total'],data.loc[max_sepdiv,'adult total']))\n",
    "print('{} has the least separated or divorced people of {} out of {} total adult population.'.format(data.loc[min_sepdiv,'GEOGDESC'],data.loc[min_sepdiv,'sepdiv total'],data.loc[min_sepdiv,'adult total']))\n",
    "print('{} is the electoral area with the highest separated/divorced proportion of {:0.4f}.'.format(data.loc[max_sepdiv_proportion,'GEOGDESC'],data.loc[max_sepdiv_proportion,'sepdiv proportion']))\n",
    "print('{} is the electoral area with the lowest separated/divorced proportion of {:0.4f}.'.format(data.loc[min_sepdiv_proportion,'GEOGDESC'],data.loc[min_sepdiv_proportion,'sepdiv proportion']))"
   ]
  },
  {
   "cell_type": "markdown",
   "metadata": {},
   "source": [
    "does being in a relationship have anything to do with your employment status?\n",
    "\n",
    "add graphs of single/marwid/sepdiv proportions across electoral areas\n",
    "add graphs of unemployment proportions across electoral areas"
   ]
  }
 ],
 "metadata": {
  "kernelspec": {
   "display_name": "Python 3",
   "language": "python",
   "name": "python3"
  },
  "language_info": {
   "codemirror_mode": {
    "name": "ipython",
    "version": 3
   },
   "file_extension": ".py",
   "mimetype": "text/x-python",
   "name": "python",
   "nbconvert_exporter": "python",
   "pygments_lexer": "ipython3",
   "version": "3.11.9"
  }
 },
 "nbformat": 4,
 "nbformat_minor": 2
}
