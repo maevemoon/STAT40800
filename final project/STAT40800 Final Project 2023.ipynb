{
 "cells": [
  {
   "cell_type": "markdown",
   "metadata": {},
   "source": [
    "Question 1 10 marks\n",
    "(a) Load the male_stud.csv dataset into Python as a pandas DataFrame.\n",
    "\n",
    "(b) Inspect the data. How many students are included in this dataset? How many di\u001berent\n",
    "indicators are included? Does this dataset contain any missing values?\n",
    "\n",
    "(c) Perform an exploratory data analysis, creating both numerical and graphical summaries of\n",
    "the data. Discuss and interpret your results."
   ]
  },
  {
   "cell_type": "code",
   "execution_count": 1,
   "metadata": {},
   "outputs": [
    {
     "name": "stdout",
     "output_type": "stream",
     "text": [
      "Total amount of missing values in each column of the dataset:\n",
      "\n",
      "large_family     0\n",
      "lives_in_city    0\n",
      "traveltime       0\n",
      "studytime        0\n",
      "failures         0\n",
      "paid             0\n",
      "activities       0\n",
      "internet         0\n",
      "romantic         0\n",
      "famrel           0\n",
      "freetime         0\n",
      "goout            0\n",
      "absences         0\n",
      "final_grade      0\n",
      "dtype: int64\n"
     ]
    }
   ],
   "source": [
    "import pandas as pd\n",
    "\n",
    "# (a)\n",
    "male_students = pd.read_csv('male_stud.csv')\n",
    "\n",
    "print(\"Total amount of missing values in each column of the dataset:\\n\\n{}\".format(male_students.isnull().sum()))\n",
    "\n",
    "# OUTPUT: Total amount of missing values in each column of the dataset:\n",
    "\n",
    "# large_family     0\n",
    "# lives_in_city    0\n",
    "# traveltime       0\n",
    "# studytime        0\n",
    "# failures         0\n",
    "# paid             0\n",
    "# activities       0\n",
    "# internet         0\n",
    "# romantic         0\n",
    "# famrel           0\n",
    "# freetime         0\n",
    "# goout            0\n",
    "# absences         0\n",
    "# final_grade      0\n",
    "\n",
    "# (c)"
   ]
  },
  {
   "cell_type": "markdown",
   "metadata": {},
   "source": [
    "**(b)**\n",
    "- 187 students are included\n",
    "- large family, lives in city, travel time, study time, failures, paid, activities, internet, romantic, family relationship, free time, going out, absences, and final grade are the reported indicators\n",
    "- there are no missing values in the dataset\n",
    "\n",
    "**(c) Data analysis**"
   ]
  },
  {
   "cell_type": "markdown",
   "metadata": {},
   "source": [
    "Question 2 10 marks\n",
    "(a) Load the female_stud.csv dataset into Python as a pandas DataFrame.\n",
    "\n",
    "(b) Inspect the data. How many students are included in this dataset? Are the indicators the\n",
    "same as those in the male group?\n",
    "\n",
    "(c) Perform a t-test, for each of the measurements, to test whether any of the indicators di\u001ber\n",
    "between the male and the female groups. Use a signi\u001ccance level of α = 0.01. Display the\n",
    "t-score and p-value for each measurement. Clearly state the conclusion of your tests and\n",
    "explain your reasoning."
   ]
  },
  {
   "cell_type": "code",
   "execution_count": 2,
   "metadata": {},
   "outputs": [
    {
     "name": "stdout",
     "output_type": "stream",
     "text": [
      "Total amount of missing values in each column of the dataset:\n",
      "\n",
      "large_family     0\n",
      "lives_in_city    0\n",
      "traveltime       0\n",
      "studytime        0\n",
      "failures         0\n",
      "paid             0\n",
      "activities       0\n",
      "internet         0\n",
      "romantic         0\n",
      "famrel           0\n",
      "freetime         0\n",
      "goout            0\n",
      "absences         0\n",
      "final_grade      0\n",
      "dtype: int64\n"
     ]
    }
   ],
   "source": [
    "import pandas as pd\n",
    "\n",
    "female_students = pd.read_csv(\"female_stud.csv\")\n",
    "\n",
    "print(\"Total amount of missing values in each column of the dataset:\\n\\n{}\".format(female_students.isnull().sum()))\n",
    "\n",
    "# OUTPUT: Total amount of missing values in each column of the dataset:\n",
    "\n",
    "# large_family     0\n",
    "# lives_in_city    0\n",
    "# traveltime       0\n",
    "# studytime        0\n",
    "# failures         0\n",
    "# paid             0\n",
    "# activities       0\n",
    "# internet         0\n",
    "# romantic         0\n",
    "# famrel           0\n",
    "# freetime         0\n",
    "# goout            0\n",
    "# absences         0\n",
    "# final_grade      0\n",
    "\n",
    "# (c) T-TEST FOR EACH OF THE MEASUREMENTS IN MALE_STUDENTS AND FEMALE_STUDENTS\n",
    "\n"
   ]
  },
  {
   "cell_type": "markdown",
   "metadata": {},
   "source": [
    "**(b)**\n",
    "- 208 students are included\n",
    "- the indicators are the same as those in the male group. Large family, lives in city, travel time, study time, failures, paid, activities, internet, romantic, family relationship, free time, going out, absences, and final grade are the reported indicators\n",
    "- there are no missing values in the dataset\n",
    "\n",
    "**(c) T-test for each of the measurements in male_students and female_students**"
   ]
  },
  {
   "cell_type": "markdown",
   "metadata": {},
   "source": [
    "Question 3 10 marks\n",
    "(a) Combine the two datasets into a single DataFrame.\n",
    "\n",
    "(b) Compute the Pearson correlation coe\u001ecient between each of the measurements and identify\n",
    "which indicators are most correlated. List the four most strongly correlated pairs.\n",
    "\n",
    "(c) Create scatter plots for the each of the correlated pairs identi\u001ced in Q3(b). Are the relation\u0002ships as expected from the correlation coe\u001ecients?\n",
    "The full dataset should be used for all subsequent questions."
   ]
  },
  {
   "cell_type": "code",
   "execution_count": 13,
   "metadata": {},
   "outputs": [],
   "source": [
    "# (a)\n",
    "\n",
    "df = [male_students, female_students] # for neatness\n",
    "combined_df = pd.concat(df)\n",
    "\n",
    "combined_df.to_csv(\"male_and_female_stud.csv\")\n",
    "\n",
    "# (b)\n",
    "\n",
    "\n",
    "\n",
    "# (c)\n",
    "\n"
   ]
  },
  {
   "cell_type": "markdown",
   "metadata": {},
   "source": [
    "**(c)**"
   ]
  }
 ],
 "metadata": {
  "kernelspec": {
   "display_name": "Python 3",
   "language": "python",
   "name": "python3"
  },
  "language_info": {
   "codemirror_mode": {
    "name": "ipython",
    "version": 3
   },
   "file_extension": ".py",
   "mimetype": "text/x-python",
   "name": "python",
   "nbconvert_exporter": "python",
   "pygments_lexer": "ipython3",
   "version": "3.11.9"
  }
 },
 "nbformat": 4,
 "nbformat_minor": 2
}
